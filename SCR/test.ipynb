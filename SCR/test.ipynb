{
 "cells": [
  {
   "cell_type": "code",
   "execution_count": 4,
   "metadata": {},
   "outputs": [],
   "source": [
    "from chroma import Chroma\n",
    "from embeddings import OpenAIEmbeddings\n",
    "import os\n",
    "import pickle\n",
    "import chromadb\n",
    "os.environ['OPENAI_API_KEY'] = 'sk-'"
   ]
  },
  {
   "cell_type": "code",
   "execution_count": 2,
   "metadata": {},
   "outputs": [],
   "source": [
    "embd = OpenAIEmbeddings()\n",
    "client = chromadb.PersistentClient(path=\"chroma\")\n",
    "db = Chroma(client=client, embedding_function=embd, persist_directory='chroma')\n"
   ]
  },
  {
   "cell_type": "code",
   "execution_count": 8,
   "metadata": {},
   "outputs": [
    {
     "data": {
      "text/plain": [
       "'11976676.json'"
      ]
     },
     "execution_count": 8,
     "metadata": {},
     "output_type": "execute_result"
    }
   ],
   "source": [
    "case5000 = os.listdir('case5000')\n",
    "case5000[0]"
   ]
  },
  {
   "cell_type": "code",
   "execution_count": 3,
   "metadata": {},
   "outputs": [],
   "source": [
    "case1 = \"\"\"\n",
    "In 1970, Jane Roe (a fictional name used in court documents to protect the plaintiff’s identity) filed a lawsuit against Henry Wade, the district attorney of Dallas County, Texas, where she resided, challenging a Texas law making abortion illegal except by a doctor’s orders to save a woman’s life. In her lawsuit, Roe alleged that the state laws were unconstitutionally vague and abridged her right of personal privacy, protected by the First, Fourth, Fifth, Ninth, and Fourteenth Amendments.\n",
    "\"\"\"\n",
    "case2 = \"\"\"\n",
    "The Pennsylvania legislature amended its abortion control law in 1988 and 1989. Among the new provisions, the law required informed consent and a 24 hour waiting period prior to the procedure. A minor seeking an abortion required the consent of one parent (the law allows for a judicial bypass procedure). A married woman seeking an abortion had to indicate that she notified her husband of her intention to abort the fetus. These provisions were challenged by several abortion clinics and physicians. A federal appeals court upheld all the provisions except for the husband notification requirement.\n",
    "\"\"\"\n",
    "case3 = \"\"\"\n",
    "The case involves the plaintiff, Henrietta Wood, who alleges that in 1853 she was a free woman and was then deprived of her liberty by the defendant. She claims that the defendant kidnapped her and kept her in slavery for seven months before delivering her to a slaveholder in Mississippi, who then sold her to another individual. The plaintiff states that as a result of her wrongful selling, she was deprived of her time and labor for fifteen years, which she values at least $500 per year. She further alleges that she was prevented from returning to Cincinnati, where she was a resident, and that she sustained damages amounting to $20,000. The defendant denies these allegations and raises several defenses, including the claim that the cause of action did not accrue within the statute of limitations. The judge instructs the jury that to entitle the plaintiff to recover, they must be satisfied that she was a free woman at the time of the alleged injury and that the defendant caused her to be kidnapped and sold into slavery. The judge also discusses the statute of limitations and the effect of a previous legal proceeding filed by the plaintiff in Kentucky. The jury returned a verdict for the plaintiff for $2,500.\n",
    "\"\"\"\n",
    "case4 = \"\"\"\n",
    "The plaintiff, a woman of color, was living in Cincinnati as a free person after being emancipated by Mrs. Cirode. The children of Mrs. Cirode claimed some interest in the plaintiff as a slave, and in 1853, they sold her to the defendant, who forcibly restrained her of her liberty and sent her back to Kentucky, where she was imprisoned in a slave prison. A petition she filed for her liberty was dismissed, and after a series of legal proceedings, she was sold to Wm. Pulliam, then to Girard Brandon, and subjected to slavery in Mississippi and Texas, until she was emancipated in 1865. The plaintiff then began preparations to return to her home in Cincinnati, and in 1870, she filed a petition against the defendant, claiming damages. \n",
    "\"\"\"\n",
    "case5 = \"\"\"\n",
    "The case involves a patent infringement dispute over letters patent No. 470,591, which was granted to Norton for a new and improved feed for screw-cutting engine-lathes. The dispute focuses on claims 2, 3, 4, 5, 6, and 7, with claim 2 being the primary matter of contention. The patent sought to address the need for variable and readily changeable speed of the feed-shaft in screw-cutting engine lathes. The invention consisted of a combination of interchangeable gear-wheels, a shaft driven from the interchangeable gear-wheels, a pinion mounted to turn with and slide on the shaft, a driving gear-wheel in mesh with the pinion, a second series of gear-wheels of various diameters arranged step-wise on the feed-shaft, and a lever carrying the driving gear-wheel and arranged for shifting the pinion on the shaft and moving the driving gear-wheel in and out of mesh with the feed-shaft gear-wheels. The patent claimed that the combination of these elements was a new and improved method for regulating the speed of the feed-shaft. The defendant's device was found to be materially different from that described in the patent, and therefore, it was ruled that the defendant did not infringe on the patent.\n",
    "\"\"\"\n",
    "case6 = \"\"\"\n",
    "The case involves a dispute over the title to certain premises, with the plaintiff claiming an equitable title and the defendant being accused of being a mere trespasser who has dispossessed the plaintiff. The relief sought by the plaintiff is legal, not equitable, and the case is deemed to be one of equitable cognizance. The court references previous cases to support the argument that the present suit is not one of equitable cognizance, and should be brought as an ejectment bill on an equitable title. The court also discusses the appropriate course of action when a case is not one of either legal or equitable cognizance, suggesting that the case should be remanded to the state court.\n",
    "\"\"\"\n",
    "\n",
    "case7 = \"\"\"\n",
    "The case involves a motion brought forward in a legal matter where Section 968 of the Revised Statutes was not initially considered before a decree for costs was entered. Upon further examination of the relevant cases and statutes, it was determined that if a plaintiff seeks a judgment at law or a decree in equity for the payment of money and fails to recover as much as $500, exclusive of costs, the plaintiff must pay their own costs and may potentially be required to pay the costs of the defendant as well. In this particular case, the plaintiff's sole objective was to obtain a money decree, and as the sum recovered was less than $500, the plaintiff was denied the right to recover their costs. However, the court declined to impose the costs of the defendants on the plaintiff.\n",
    "\"\"\"\n",
    "\n",
    "case8 = \"\"\"\n",
    "The case involves a certified question regarding the power of the court to make a joint adjudication in a bankruptcy proceeding. The district judge expressed their exception to the court's power to make a joint adjudication and heard counsel on the matter. The statute suggests that two or more persons who are partners in trade may be made bankrupt in one proceeding, as long as their joint affairs have not been fully wound up. The judge also mentioned that bankruptcy is an equitable proceeding, and there is no law authorizing persons to join or be joined in a petition in bankruptcy if they could not sue or be sued together in any form of action at law or in equity. The judge also referenced the case of Mitchell, where the possibility of a joint petition without joining a partner from a different firm was discussed. The judge also mentioned the past law in England regarding joint commissions against the members of a firm. The judge concluded by stating that the petition of Wallace & Newton was regular, and the adjudication against them is valid, but proceedings against Henry J. Bryant are dismissed.\n",
    "\"\"\"\n",
    "\n",
    "case9 = \"\"\"\n",
    "The case involves a bankrupt individual being accused of willfully and fraudulently omitting the name of a creditor from their schedule of debts, providing false information about the date a debt was contracted, and failing to keep proper books of account. The case also includes allegations of negligence in delivering property to the assignee and withholding assets from the assignee. The creditors raised multiple specifications questioning the bankrupt's eligibility for discharge, including allegations of fraudulent preference and irregularities in the proceedings. The court ruled on each specification and ultimately granted the discharge to the bankrupt. \n",
    "\"\"\"\n",
    "\n",
    "case10 = \"\"\"\n",
    "The case in question involves a dispute over the share of proceeds to which McDonald, the informer, is entitled. The main issue hinges on when his right to a share in the proceeds became vested. The informer argues that his right became vested when he provided the information that led to the seizure, contending that he is entitled to half of the proceeds of the forfeiture under the law in force at that time. Additionally, the informer asserts that his rights vested at the time of providing the information, subject to the outcome of a subsequent suit, and that the decree relating to the forfeiture should be treated as retroactive to the time of the seizure. However, it has been held, under all revenue laws, that the title of the seizor or informer is liable to be divested by the government until the money is paid over for distribution. The court held that the informer was entitled only to the sum of $5,000, as it was determined that his right vested only at the time the money representing the property was paid over for distribution, not when he initially provided the information.\n",
    "\"\"\"\n",
    "\n",
    "case11 = \"\"\"\n",
    "The case involves the recovery of damages for the loss of the pilot-boat Charlotte Webb, along with the personal effects of those on board, due to a collision with the French steam-ship La Normandie in a dense fog at sea. The collision occurred between five to eight miles east by south from Sandy Hook-light-ship, towards midnight of May 28, 1889. The first libel is against the owners of La Normandie in personam, and the second, brought by the same libelant with another, is against the ship in rem. La Normandie is a steam-ship plying between Havre and New York, while the Charlotte Webb was a two-masted schooner in the service of licensed pilots. The collision resulted in the sinking of the pilot-boat, causing the death of two individuals and the rescue of others by the steam-ship La Normandie. The libelants argued that the fault lay with the excessive speed of the steamer, her failure to heed the signals of the pilot-boat, and her neglect to stop and back in time. The respondents claimed that the collision was due to the failure of the pilot-boat to give proper signals or to veer out of the path of the steamer. The case involved the determination of fault in the collision based on the proper adherence to the rules of navigation and careful seamanship. \n",
    "\"\"\"\n",
    "\n",
    "case12 = \"\"\"\n",
    "The case involves a dispute over a life insurance policy taken out by M.D. Sowell with an insurance company. Sowell submitted a written application for a policy worth $10,000 on his life, along with a first premium payment of $550. The application stipulated that there would be no contract of insurance until a policy was issued by the company, manually received and accepted during the good health of the insured, and the first premium paid. The company issued a policy on June 18, 1903, dating it to June 1, 1903, but never delivered it to Sowell. The company was informed of Sowell's poor health and instructed its agent to hold the policy until Sowell recovered. Sowell died before receiving the policy. The court was asked to determine if a contract of insurance existed between Sowell and the company, given that the policy was never manually received and accepted by Sowell while he was in good health.\n",
    "\"\"\"\n",
    "\n",
    "\n",
    "\n",
    "texts = [case1, case2, case3, case4, case5, case6, case7, case8, case9, case10, case11, case12]\n"
   ]
  },
  {
   "cell_type": "code",
   "execution_count": 5,
   "metadata": {},
   "outputs": [
    {
     "data": {
      "text/plain": [
       "['c9ae0b42-d9ac-11ee-8fec-10f60a1a4ad7',\n",
       " 'c9ae0c14-d9ac-11ee-8fec-10f60a1a4ad7',\n",
       " 'c9ae0c6e-d9ac-11ee-8fec-10f60a1a4ad7',\n",
       " 'c9ae0cb4-d9ac-11ee-8fec-10f60a1a4ad7',\n",
       " 'c9ae0cfa-d9ac-11ee-8fec-10f60a1a4ad7',\n",
       " 'c9ae0d40-d9ac-11ee-8fec-10f60a1a4ad7',\n",
       " 'c9ae0d86-d9ac-11ee-8fec-10f60a1a4ad7',\n",
       " 'c9ae0dd6-d9ac-11ee-8fec-10f60a1a4ad7',\n",
       " 'c9ae0e26-d9ac-11ee-8fec-10f60a1a4ad7',\n",
       " 'c9ae0e62-d9ac-11ee-8fec-10f60a1a4ad7',\n",
       " 'c9ae0e9e-d9ac-11ee-8fec-10f60a1a4ad7',\n",
       " 'c9ae0eda-d9ac-11ee-8fec-10f60a1a4ad7']"
      ]
     },
     "execution_count": 5,
     "metadata": {},
     "output_type": "execute_result"
    }
   ],
   "source": [
    "db.add_texts(texts)\n",
    "# collection.add(documents=texts)"
   ]
  },
  {
   "cell_type": "code",
   "execution_count": 4,
   "metadata": {},
   "outputs": [
    {
     "ename": "AssertionError",
     "evalue": "",
     "output_type": "error",
     "traceback": [
      "\u001b[0;31m---------------------------------------------------------------------------\u001b[0m",
      "\u001b[0;31mAssertionError\u001b[0m                            Traceback (most recent call last)",
      "Cell \u001b[0;32mIn[4], line 1\u001b[0m\n\u001b[0;32m----> 1\u001b[0m \u001b[38;5;28;01massert\u001b[39;00m db\u001b[38;5;241m.\u001b[39msimilarity_search(case1, \u001b[38;5;241m2\u001b[39m)[\u001b[38;5;241m1\u001b[39m]\u001b[38;5;241m.\u001b[39mpage_content \u001b[38;5;241m==\u001b[39m case2\n\u001b[1;32m      2\u001b[0m \u001b[38;5;28;01massert\u001b[39;00m db\u001b[38;5;241m.\u001b[39msimilarity_search(case2, \u001b[38;5;241m2\u001b[39m)[\u001b[38;5;241m1\u001b[39m]\u001b[38;5;241m.\u001b[39mpage_content \u001b[38;5;241m==\u001b[39m case1\n",
      "\u001b[0;31mAssertionError\u001b[0m: "
     ]
    }
   ],
   "source": [
    "assert db.similarity_search(case1, 2)[1].page_content == case2\n",
    "assert db.similarity_search(case2, 2)[1].page_content == case1"
   ]
  },
  {
   "cell_type": "code",
   "execution_count": 5,
   "metadata": {},
   "outputs": [],
   "source": [
    "assert db.similarity_search(case3, 2)[1].page_content == case4\n",
    "assert db.similarity_search(case4, 2)[1].page_content == case3"
   ]
  },
  {
   "cell_type": "code",
   "execution_count": 5,
   "metadata": {},
   "outputs": [
    {
     "data": {
      "text/plain": [
       "[Document(page_content='judges: \\n\\nparties: \\nJONES v. VANZANDT.\\nopinions: \\nOPINION OF THE COURT. This is a motion for a new trial, and, also, in arrest of judgment. The jury found for the plaintiff twelve hundred dollars, in damages, on\\' the third and fourth counts of the declaration. [Case No. 7,501.]\\nThe first ground on which a new trial is asked, is, “that a peremptory challenge was allowed the plaintiff, after he expressed himself satisfied with the jury, and after two peremptory challenges had been made by the defendant” The statute gives a right to each party to challenge, peremptorily, two jurors. There was some difference of opinion among the members of the bar as to the state practice on the subject; and the court thought it not unreasonable to suffer a juror to be challenged by the plaintiff, under the above circumstances. One of his counsel had, inconsiderately, remarked, that they were satisfied with the jury. Both parties were allowed, in this respect, the right given them by the statute, and there was nothing in the mode of exercising that right, which could, in any degree, prejudice the cause of either.\\nThe second ground assumes that “the court erred in charging the jury that it was not necessary to prove that the defendant, intentionally, placed. the colored persons, in .question, out of view for the purpose of eluding the search of the master or his agent, in order to establish the fact of concealment, or. to prove that he received, sheltered, and placed them out of view for said purpose, in order to establish the fact of harboring, but charged that it was sufficient, if the jury-believed from the evidence, that the defendant received the colored persons into his wagon, and transported them to Bates’ from Walnut Hills, with intent to facilitate their escape from their master.”\\nThe court gave no such charge as the above, either in terms or in substance. In the published charge, which is substantially correct, tne court say: “Any overt act which shall be so marked in its character, as not only to show an intention to elude the vigilance of the master, but is calculated to attain such an object, is a harboring of the fugitive in violation of the statute. It is clearly within the mischief the statute was designed to prevent.” And, again: “To constitute the offence under the statute, it is not necessary to incarcerate the fugitive in a dungeon or room; if he be taken in a wagon and conveyed from the shore of the Ohio to the shore of Lake Erie, which enables him to escape into Canada, I suppose no one could doubt that the individual had made himself responsible. And if conveying the fugitive the whole of this route would incur the penalty, on the same principle the conveyance of him such a part of the route as shall cause the loss of his services to the master would equally incur liability.” The counsel who make the motion assume that the court said, that the transportation of the fugitives by the defendant, in his wagon, from the Walnut Hills to Bates’, if done with the intent to facilitate their escape from •their master, was sufficient to charge the defendant under the statute.\\nIt will be seen from the printed charge, which, in this respect, is literally correct, that the transportation spoken of, must be such as to cause the loss-of the services of the fugitives to the master, or such as is calculated and designed to produce such a result. And this construction of the statute Is said to be not as strict, as the nature of the act requires, but a liberal one, such as is given to a remedial statute. What shall be a harboring or concealing within the statute is necessarily a matter of construction. So diversified. is the conduct of men and their devices to evade the law, that no statute could define, with precision, what particular acts shall constitute a harboring or concealing within its spirit. The object of the statute is, to prevent such acts as shall place the fugitive beyond the reach of his master. The word harbor means “to entertain,” “to shelter,” “to secure,” “to secrete,” “to receive entertainment,” “to take shelter.” In the sense of the statute it means a fraudulent receiving, securing, hiding, or placing, by transportation or otherwise, a fugitive from labor beyond the reach or knowledge of his master. The act must be fraudulent. That is, it must be done with a fixed intention to violate the law by defeating its object, which is a fraud upon the law as well as upon the rights which the law designed to protect In the language of the charge, “the act must be so marked in its character, as not only to show an intention to elude the vigilance of the master, but such as is calculated to attain that object. Now, from this definition it would seem that no man, who respects the laws of his country, can be in danger of incurring the penalty of this act. It cuts off from no individual the exercise of humanity. He may indulge, and safely indulge, the better feelings of his nature, in sympathizing with the distressed, and in administering to their comfort. Por his acts only is he amenable trader the law. His advice to the fugitive does not subject him to any penalty. He may clothe .him and give him food. There is only one thing which the law prohibits him from doing, and that is, he shall not harbor or conceal the fugitive so as to. defeat the claims of his master. He shall not deliberately and intentionally violate the law of his country. Amy thing short of this he may do.\\nIf an individual, under cover of the night, shall possess himself of a dozen or more colored persons, and concealing them in a closely covered carriage, shall, by a rapid movement, drive them from or near the place where such persons were held to service, by the laws of the state, to a place beyond the reach of the master, could any one doubt that such an act would be a violation of the law. The court and jury must determine what shall amount to a harboring or concealing within the meaning of the statute, the same as what shall constitute treason, murder, burglary, robbery, and every other crime known to the law. . The facts are as various as the cases, and in each case the facts must fix the character of the offence. I was not prepared to hear, in a court of justice, the broad ground assumed, as was assumed in this case before the jury, that a man, in the exercise of what he conceives to be a conscientious duty, may violate the laws of the land. That no human laws can justly restrain the acts of men, who are impelled by a sense of duty to God and their fellow creature. We are. not here to deal with abstractions. We can not theorize upon the principles of our government, or of slavery. The law is our only guide. If convictions, honest convictions they may be, of what is right or wrong, are to be substituted as a rule of action in disregard of the law, we shall soon be without law and without protection. The pretext for violating the rights of those who may become obnoxious to censure, can easily be assumed and maintained. And the same plea of the rights of conscience, and the high motive of duty, will be asserted, however absurd, everywhere, in justification of wrongs. What one man, or association of men, may assume as the basis of action, may be assumed by all others. And in this way society may be resolved into its original elements. and then the governing principle must be force. Every approximation to this state is at war with the social compact. If the law be wrong in principle, or oppressive in its exactions, it should be changed in a constitutional mode. If the organization of our government be essentially wrong, in any of its great principles, change it. Change it in the mode provided. But the law, until changed or abrogated, should be respected and obeyed. Any departure • from this inflicts a deep wound on society, and is extremely demoralizing in its effects. No good man, in the exercise of his sober judgment, can either feel or act in violation of this rule.\\nThe third reason for a new trial is, “that the court erred in charging the jury that ft was not necessary, in order to establish the plaintiff’s right to recover, to prove actual notice to defendant from the complainant, or some one acting in his behalf, that the persons alleged to be harbored or concealed, by him, were fugitives from labor within the meaning of the act of congress [1 Stat. 302], but charged that it was sufficient, if the jury should be satisfied, from the evidence, that the defendant knew that such persons were fugitives from labor, from the admission of the negroes, or otherwise.” The words of the law are — if any person “shall harbor or conceal (a fugitive from labor), after notice that he or she was .a fugitive, shall forfeit, &c.” That this notice need not be given in writing is admitted; but it is insisted that it must come to the person who harbors the fugitive from the master, his agent, or attorney. I lay it down as a general principle, that where the law speaks of notice it is never necessary that such notice should be in ■writing, unless so required by the statute, commercial usage, or by practice of the courts. A notice of taking a deposition the statute requires to be in writing; and a written notice to the indorser of a bill of exchange or promissory note must be in writing by commercial usage; and in many cases written notices are required under rules of courts. But the law of notice is best illustrated, and is most appropriate to the case in hand, which applies to a purchaser of real estate, for a valuable consideration, with notice. Now, if he had notice of a prior title, at the time he purchased, the law holds him to be a fraudulent purchaser. As in the case under consideration, if the defendant harbored the fugitives from labor, claimed by the plaintiff, after notice that they were such fugitives, he committed a fraud on the law.\\n• It is laid down in The Ploughboy [Case No. 11,230], as a general rule, “that whatever is sufficient to put the party upon inquiry is good notice.” And, also, “where a party has knowledge of the facts he has notice of the legal consequence resulting from those facts.” An individual who passes a counterfeit coin does not violate the law unless he knew it to be counterfeit. And this guilty knowledge is shown by proving that the same person passed similar coins at other times, or that such coins were found in his possession. Now, if the persons in question were fugitives from labor, and the defendant had full knowledge of the fact, is it important how this knowledge was acquired? Notice is information. Knowledge is equivalent to notice in cases where it is not required to be in writing. Vanzandt, the defendant, on the trial of certain persons for kidnapping at Lebanon, swore that he received these negroes near the Lane Seminary, at three o\\'clock on Sabbath morning, he having returned to that place, from the Cincinnati market, on Saturday evening. That they were brought to that place in two carriages, and were delivered to him by Mr. Alley. The cover of the defendant’s wagon was closed at both ends of it so as to attract attention. This was done, he stated to some of the witnesses, “to keep out the cold,” whilst to others he said, “he started at three o’clock in the morning, that he might have the cool of the morning.” This was on the 24th April of last year. To Thurman the defendant said, “he knew the colored persons in his wagon were not free, but he said they ought to be free.” Bates asked the defendant if he had a load of slaves or Kentuckians; ho replied, “They are as free by nature as you are.” McDonald heard the defendant say that he was not ashamed of what he had done. That he would help his fellow mortals out of bondage. He said the colored persons were free by the constitution. To Hargrave he observed: “If you had not interfered the negroes would then have been free, but now they, are slaves, or in bondage.” Now, -taking into view the manner in which the slaves were received; the time of night; the rapid manner in which they were driven, six or seven miles beyond the residence of the defendant; and the attempt to escape from his pursuers by running his horses; the manner in which his wagon was covered, and his own confessions that the fugitives were slaves, no one of sane mind can doubt that he had full notice that the colored persons were fugitives from labor. And that he intended to place them beyond the reach of pursuit seems to be equally clear. Now, whether the law of congress be politic or not, is not a question for the court. They are bound to execute it. To require a notice, verbal or written, to the person who harbors slaves before he is responsible, under the law, from the owner or his agent, would, in effect, strike the law from the statute book. It would be unreasonable and impracticable. It would be against all the analogies of the law.\\nNo one can look at the facts of this ease with an honest endeavor\\' to carry out and give effect to the law, who can, it would seem to me, doubt on this subject. No individual is responsible under the law, unless he has a full knowledge that the persons harbored are fugitives from labor, and he so disposes of them, as to place them beyond the reach of their pursuers, or, as may be calculated to elude pursuit. The act must be an intentional fraud upon the law, by an utter disregard of its provisions. No law-abiding citizen need fear a liability under this statute.\\nThe third ground of the motion is, “that the court erred in charging the jury that the plaintiff was entitled to recover from the defendant, by way of damages, the sum of four hundred and fifty dollars, paid as a reward given by a statute of Kentucky to the individuals who forcibly stopped the defendant on the highway in Ohio, seized the colored persons in Question and carried them out of the state of Ohio into the state of Kentucky, without legal process and without any authority or request from the claimant or his agent or attorney.” On this question the court had nothing to do with the illegal conduct of Hefferman and Hargrave, who took the slaves from the defendant. They were not upon their trial, and we could not inquire whether their acts were legal or otherwise. The only inquiry was, whether, by the acts of the defendant, the plaintiff had been compelled to pay the above sum. The matter of fact was left to the jury, and no doubt can be entertained by the court that if the payment of the money resulted, from the acts of the defendant, the jury very properly included it in their verdict. This question\\' did not arise under the law of Ohio, but under the law of Kentucky. The plaintiff was subject to the law of Kentucky, and that law imposed the duty on him to pay, as a reward, the above sum to those who should return his slaves, who had escaped from his service.\\nThe plaintiff was only entitled to recover In this case for the injury which had .been done him by the defendant. And this injury, so far as this item is concerned, is measured by the law of Kentucky. Now, could any thing be more preposterous than to hold that the plaintiff, if entitled to recover, should not recover the above .damage, because, by the laws of Ohio, Hefferman and Hargrave could not have recovered the reward which was unquestionably given to them by the law of Kentucky. In regard to this reward the plaintiff was subject to the law of Kentucky, and not to the law of Ohio. The reward was paid, necessarily and legally paid, under the Kentucky statute. Whether the payment of this reward resulted from the acts of the defendant was a question exclusively for the jury.\\nThe court, it is alledged, also, “erred in charging the jury that the plaintiff was entitled to recover the market value of Andrew, if they should believe upon the evidence that he escaped in consequence of the harboring and concealing by the defendant.” The court charged the jury that if they believed, from the evidence, that the services of the boy, Andrew, were lost to the plaintiff through the acts of the defendant, that they should give the value of his services. And they called the attention of the jury to one or more witnesses who said the services of the boy were worth six hundred dollars, and that he could have been sold for that sum. It is presumed that a slave is always purchased in reference to his services. His services are bought and sold when the slave is bought and sold. They both, under the laws of Kentucky, mean the same thing. It was, however, to the value of the services of the boy that the attention of the jury was particularly directed. As to the sixth ground no remarks are necessary.\\nThe seventh reason is, that the verdict is against evidence. And first, it is contended “that there was no evidence that the escape of Andrew was occasioned by the act of the defendant.” This point was fully and fairly left to the jury. It was not a matter for the court. Andrew was received among the. other slaves, by the defendant, according to his own confession, from Alley, at Walnut Hills, at three o’clock, on Sabbath morning; he was transported with the other negroes until the wagon was arrested, when Andrew escaped. He, it seems, drove the wagon at least a part of the route. Vanzandt swore in the trials at Lebanon, that “he did not-know where the negroes were from or where they were desirous of going.” But from the circumstance of his receiving them at three o’clock in the morning, from another individual who conveyed them to the Walnut Hills in two carriages, at that unusual hour, the jury may have presumed that the defendant and Alley acted in concert. That there was strong ground for this presumption no one will deny. And if this concert existed, it would make the defendant responsible for the loss of the services of this boy. In any point in which the question may be considered, the court cannot say that the verdict, in .this respect, was against evidence; or that it was not founded on facts and circumstances which the jury had a right to weigh and determine. And this answer will equally apply to the alledged want of evidence to show that the expenses of the recapture resulted from the defendant’s conduct.\\nThe eighth ground is, “that the damages are excessive.” And first, it is contended “that the liability to pay the rewards of recapture was incurred in consequence of the escape, and did not spring from any act of the defendant.” This, in another form, has already been sufficiently considered. In the second place it is urged “that only the value of the services of the colored people, between their recaption by the defendant and their restoration to their master, should have been taken-into consideration by the jury.” The jury had, undoubtedly, a right to take into consideration the value of the services of the boy, Andrew, if, from the evidence, they believed these services had been lost to the plaintiff by the acts of the defendant. And there is no doubt that they did estimate in their verdict the value of those services. But a difficulty arises, in regard to the damages, from the counts on which the verdict was rendered.\\nThe verdict was given on the third and fourth counts of the declaration. These counts go for the loss of the services of the slaves six days, and in the third count is su-peradded “and the plaintiff was thereby put to great trouble and cost in recovering the slaves.” On the seven other counts there was no finding by the .iury. The first, sixth, seventh,’ and eighth counts were abandoned on the trial; and the court instructed the jury there w’as no evidence under the fifth count. That count charged the defendant with obstructing the arrest. And the plaintiff now asks that all the counts except the third and fourth, on which the jury have found, be entered upon the record as having been abandoned. The second, fifth and ninth counts, were not abandoned.\\nWhere a mistake is made in recording the verdict, the court may amend by the judge’s notes (2 Strange, 1197; 3 Term R. 749); or by the notes of the clerk (1 Salk. 47, 51). So, where part of the plaintiff’s claim is good and part bad, and the jury find entire damages, if it appear from the judge’s, notes, that damages were given only for the part which was good, the court will allow the postea to be amended. 2 Johns. Cas. 17. So, where one count in a declaration is good and the others bad, if the judge certify that the evidence applied solely to that count, &c., the verdict may be amended by applying it to the good count. 1 Caines, 381; 11 Johns. 98. In Rockfeller v. Donnelly, 8 Cow. 652, the court of errors held, that the verdict on one out of several issues, if the finding comprise the whole merits, is not error. That a mistake in not entering a verdict on all the issues may be amended, or passed over on error as actually amended. 12 Wend. 215. After a general verdict upon the counts, one good and the other bad, and after a reversal of the judgment for such cause the postea will be suffered to be amended so as to have the verdict entered upon the good count only where it appears the evidence applied to both counts. The rule established in New York is somewhat different from the English rule. In 1 Ld. Raym. 324, it is laid down that a verdict must comprehend the whole issue or issues submitted to the jury in that particular cause, otherwise the judgment founded upon it may be reversed. In Sanford v. Porter [Spencer v. Goter], 1 H. Bl. 78, it is said the court have no authority to amend or alter the verdict actually found by the jury in point of substance. But a mistake in entering the verdict will be corrected.\\nIn [Patterson v. U. S.] 2 Wheat. [15 U. S.] 221, it is said, a verdict is had if it varies from the issue in a- substantial matter, or if it find only a part of that which is in issue; this rule results from the nature and the end of pleading, although the court may give form to a general finding so as to make it harmonize with the issue, yet if the finding is different from the issue or is confined to a part only of the matter in issue, no judgment can be rendered on the verdict. In Bac. Abr. tit. “Verdict,” letter L, it is said, if part of the issue be insensible, the verdict, notwithstanding it is a general one, is good; but if part of the issue which is sensible be insufficient in law and the verdict be a general one, it is bad. Id. letter M. If a verdict only find part of the issue and be silent as to the residue, it is bad even for that part which, if it had stood alone, would have been well found; because the jury have failed in ther duty, which was to find the whole that is in issue. In Clark v. Irvin, 9 Ohio, 132, the court say the verdict in the case below was a general one of not guilty. The jury did not pass upon the issues joined by two of the defendants. This has heretofore been held a sufficient ground for reversing the judgment. 5 Ohio, 227. By the 131st section of the practice act (Swan’s St. 684), it is provided, “that where there are, in a declaration, several counts, any one or more of which shall be defective and the residue good and entire damages are given, the verdict shall be good and effectual in law, provided the plaintiff, before the jury retire from the bar, apply to the court to instruct the jurs to disregard such defective count or counts.” And by the 142d section of the same act, where some counts are defective, and a general verdict, the court may render judgment on the good counts. These statutes are not in force in this court, as they have never been adopted by congress or the court.\\nThe case in 8 Cow., above cited, is the only one in point, and that considers the finding of the jury for the plaintiff on a part of the counts, is a virtual finding for the defendant on the other counts. But the correctness of this rule is doubted when the counts, like the declaration under consideration, contain distinct grounds of action. In the fifth count the defendant is charged with hindering an arrest of the fugitives,, by the agents of the plaintiff. In the ninth count the defendant is charged with having harbored the boy, Andrew, &c., by which his services were entirely lost to the plaintiff. Now can the court amend the verdict by entering not guilty on these two counts. It is not a formal amendment, though the objection may seem to be technical. That the jury found the full value for the services of Andrew is clear, and yet such finding, it would seem, can only be sustained under the ninth count Damages under the third and fourth counts can only be assessed, for the expenses incurred by the plaintiff in the recaption of his slaves, and for the loss of their services, which is stated to have been six days in both the counts. If the court then shall enter an abandonment of the ninth count, I cannot see how this verdict can be sustained. Though it does not aid the plaintiff as the jury have not passed upon it It is said that in an action of tort the court will seldom, if ever, grant a new trial, on account of excessive damages. But the data on which the damages were estimated in this case were distinct items of expense or loss, estimated by the witnesses in dollars. The jury were instructed, if they found for the plaintiff, that there was nothing in the case which called for exemplary damages. So it would seem whether the counts not embraced by the verdict be abandoned or not, that there are great difficulties in sustaining the verdict. The damages found are double the sum which in any view the jury could take, under the third and fourth counts, should have been given. Under the ninth count, so far as the verdict is concerned, it might have been sustained.\\nI will take a very concise view of the reasons in arrest of the judgment. It is contended that no action is given to the master, by the act of congress, except that to recover the penalty of five hundred dollars. The latter part of the 4th section of the act declares, that if any person “shall harbor or conceal a fugitive from labor, after notice that he or she was a fugitive from labor, such person shall, for such offense, forfeit and pay the sum of five hundred dollars; whioh penalty may be recovered by, and for the benefit of such claimant? by action of debt, in any court proper to try the same, saving, moreover, to the person claiming such labor or service, his right of action for, or on account of the said injuries.” Now it must be admitted that on the principles of the common law, the plaintiff could not sustain this action. It is founded upon the statute, under the constitution. And as it is a statutory remedy, it must clearly exist and be strictly pursued. The saving of the right of action to the claimant, is in the nature of a proviso, and to understand it every part of the statute which is connected with it must be considered. The third section provides the mode of recovering a fugitive from labor. The fourth section declares what acts shall constitute offences, for either of which the claimant-may recover, as a penalty, five hundred dollars. It is made an of-fence to obstruct or hinder the claimant, his agent or attorney, in arresting the fugitives, or to rescue him after the arrest. It also subjects an individual to the penalty, who shall harbor or conceal the fugitive, after notice that he is a fugitive from labor; saving, moreover, to the complainant a right of action for, or, on account of, the said injuries, or either of them. The injuries are defined, and the penalty provided; but this penalty, though given to the claimant, is given as a penalty, and not to indemnify him for the injuries received. For these, or any one of them, a right of action is saved. The form of the action -was not saved or given, for that existed before, as a means of redress for a wrong done. But it was the ground of action which was saved, notwithstanding the penalty inflicted. The statute, under the constitution, defined the rights of the master, and provided a mode by which his fugitive slave might be reclaimed. Now, this was a right created by the constitution and the law. Under the institutions of Ohio, this right has no other foundation than the constitution and act of congress. But, under these, it is a right, substantive and important. And, for an obstruction in the exercise of this right, by hindering an arrest of the fugitive, by rescuing him, by harboring or concealing him, whereby an injury is done to the master, his right of action is saved. The acts prohibited are unlawful, because the law punishes them, and saves a right of action to the claimant, for the injury done — the same injury for which the penalty may be exacted. This is the plain meaning of the statute.\\nThe objection that, as no action lay at common law for the injury, and none being expressly given by statute, the action can not be maintained, is wholly unsustainable. The statute creates the right, and declares what shall constitute the wrong; and, for the redress of every wrong, the common law gives a remedy. It was only necessary for the statute to declare, having provided a penalty, that it should not bar a-remedy, by action, for the j injury done.\\nIt is alledged, as a reason in arrest of the judgment, “that the third and fourth counts of the declaration, on which the verdict is rendered, are both bad. The third, because it contains no sufficient averment of escape or notice; the fourth, because it contains no sufficient averment of notice, and does not conclude against the form of the statute.” The averments of escape, in both counts, are substantially the same. In the third count, after stating the names of the slaves, and ownership of the plaintiff, and that, under the laws of Kentucky, they were his property, and owed him service, and were held to labor, it is stated that they unlawfully, wrongfully and unjustly, without the license or consent, and against the will or the plaintiff, departed and went away from, and out of, the service of the plaintiff, at Boone county, and the state of Kentucky, and came to Hamilton county, in the state and district aforesaid; yet the said defendant. after notice that the said persons were the slaves of the plaintiff, and fugitives from labor, but contriving, &c., then and there, to wit: at the county and the district aforesaid. The notice is here sufficiently alledged, and, also, that the colored persons owed service to the plaintiff, under the laws of Kentucky. It need not to have been averred that they were slaves, &c.; but this, being a stronger language than the act requires, does not vitiate the count. There is, however, an important defect in the allegation, of their escape. The word escape is used in the statute, and could, undoubtedly, be most appropriately used in the declaration; but other and equivalent words may answer; and such-words, I think, are found in these counts. \"Without the license or consent, and against the will of the plaintiff, the slaves departed; and, it is averred, that the defendant had notice, before he harbored them, that they were fugitives from labor. But to what place did they escape? The words of the act are — “When a person, held to labor in any of the United States, &e., under the laws thereof, shall escape into any other of the said states,” &c. Now, the allegation in this count, is, that the slaves escaped from Boone county, and the state of Kentucky, and came to the defendant, at “Hamilton county, in the state and district aforesaid.” What state and district aforesaid? The grammatical reference is to- the state and district last above named. The state of Ohio is not named in the count; and the words, “Hamilton county,” are not a sufficient designation. The direct reference then, is, to the state of Kentucky, which, by the law, is a district; and, in this view, there is no escape alledged within the statute.\\nIn the second count, which has been abandoned, the slaves are alledged to have departed and went away from the plaintiff, and out of his service, at said Boone county, and came to the defendant, at “Hamilton county, in the state of Ohio, and the district aforesaid.” The first count, which has also been abandoned, being founded on the common law for enticing away the slaves, the venue is laid under a videlicet “in the district of Ohio, as aforesaid.” There is no district of Ohio alledged, to which this allegation could refer, unless it be in the title of the count, as a caption to the declaration. This action being founded on the statute, great strictness is required. A good ground of recovery must be shown, if not in the words of the statute, in every material circumstance. And if, in the language of the statute, the slaves did not escape from one state, where they were held to labor, into another state, the action can not be sustained. The title, as set out, would seem to be defective. And this is not cured by a verdict. I entertain great doubts whether the reference to the preceding counts, as regards the escape, can make good the third count. At least, there is great uncertainty in the reference. A reference to the margin may be sufficient for the venue, but the allegation under consideration is a part of the title. The fourth count, in this respect, is liable to the same exception as the • third. But there is another exception taken to (the fourth count — “that it does not conclude against the form of the statute.”\\nMr. Chitty (1 Chit. Pi. 240) says: “If, however, an offence be created by a statute, and a penalty be inflicted, the mere statement of the facts constituting the offence will be insufficient, for there must be an express reference to the statute, as, by the words, ‘contrary to the form of the statute,’ in order that it may appear that the plaintiff grounds his case upon, and intends to bring it within, the statute.” In 405 he further remarks: “It is material, in all cases, that the offense or act charged to have been committed, or omitted by the defendant, appear to have been within the provision of the statute; and all circumstances necessary to support the action must be alledged.” This principle is fully sustained by Mr. Justice Story, in the case of Smith v. U. S. [Case No. 13,122]; and, also, in Sears v. U. S. [Id. 12,592], He says: “The offence charged in the declaration, is not alleged to be contrary to the form of any statute. The necessity of such averment, in an action founded upon a penal statute, is abundantly supported by authority.” 1 Saund. 135, note. These, it is true, were penal actions; or, actions brought to recover the penalty given in the statute. The same degree of strictness may not be essential, in an .action for damages, under a statute. But if the action be founded exclusively upon the statute, and can not be maintained at common law, a reference to the statute, as showing the right of the plaintiff, it seems to me, is essential. The defendant is charged with harboring the slaves of the plaintiff, who had escaped from his service in Kentucky. But the wrong charged is no legal wrong, except as it is made so by statute; and the fourth count does not refer to the statute. The statute is a public one, but it is the foundation, and the only foundation, of the plaintiff’s right. It may not be necessary to adopt the formal conclusion, as was held, necessary in the above cases, where the action was brought for the penalty. But, it seems to me, that the declaration must refer to the statute, as an essential part of the plaintiff’s right. I have not had time to look into the authorities extensively on this point; but I think from analogy, and the reason of things, the -fourth count is defective in this particular.\\nThe constitutionality of the act of congress is questioned, on the ground that the sixth article of the compact, in the ordinance ot 1787, for the government of the Northwestern Territory, provides “that any person escaping into the territory, from labor or service, is lawfully claimed in any one of the original states, such fugitive may be lawfully reclaimed, • and conveyed to the person claiming his or her labor or service, as aforesaid.” This, it is insisted, is paramount to the act of congress, and imposes no obligation on this state to deliver up a fugitive from labor, except when claimed, by a citizen of one of the original states. The six articles of this ordinance are declared to be “a compact between the original states, and the people and states in the said territory, and forever to remain unalterable, unless by common consent” The act ot congress, respecting fugitives from labor, does not conflict with the above provision. It does not purport to repeal the article, nor to modify it. A new and substantive provision is adopted, which carries out the principle of the ordinance. And it extends the right of claimants to the new states. The ordinance does not prohibit this. It is, indeed, carrying out its spirit and intention. For it can hardly be supposed that congress, in adopting the ordinance, could have intended to secure rights, in regard to claiming fugitives from labor, to the citizens of the original states, which should not be extended to the citizens of all the states. 1 deem it unnecessary to consider this subject at large; and I will only say, as there is no repugnancy between the act of congress and the above article, I do not see how, if the ordinance retains its full force, the act can be unconstitutional, upon the ground assumed.\\nAs a motion for a new trial was first in order, and as the third and fourth counts, on which the jury found their verdict, claim only compensation for the loss of the services of the slaves for six days, and an indemnity for the expenses to which the plaintiff had been subjected by the acts of the defendant, which do not, from the evidence, exceed six hundred dollars, and, as the verdict rendered was for twelve hundred dollars. I feel bound to set aside the verdict.\\nIn the ninth count, the plaintiff claims fot the entire loss of the services of Andrew-, but as the jury did not find under this count, and it has been abandoned, it must be considered, for the purposes of this motion, as stricken from the record.\\nA new trial is granted at the costs of the defendant.\\nattorneys: \\nFox, Southgate & Morris, for plaintiff.   \\nMr. Chase, T. Morris and Mr. Jolliffe, for defendant\\ncorrections: \\nhead_matter: Case No. 7,502.\\nJONES v. VANZANDT.\\n[2 McLean, 611; 1 West. Law J. 56.]\\nCircuit Court, D. Ohio.\\nJuly Term, 1843.\\nFox, Southgate & Morris, for plaintiff.\\nMr. Chase, T. Morris and Mr. Jolliffe, for defendant\\n[Reported by Hon. John McLean, Circuit Justice.]\\n', metadata={'name': 'Jones v. Vanzandt'}),\n",
       " Document(page_content='judges: \\n\\nparties: \\nUNITED STATES v. SMITH.\\nopinions: \\nEDWARDS, District Judge.\\nThat is where the witness does not object. But here the witness does object.\\nThe district attorney observed further that the witness came here voluntarily, and agreed to testify. He ought not now to surprise us by refusing to testify. It would be hard on the part of the United States if he were permitted to conduct in this manner.\\nEDWARDS, District Judge. That is of no consequence. The only question is whether he can be compelled to testify to what may implicate himself, because two years have elapsed since the transaction.\\nThe district attorney then insisted that the lapse of two years after the offense was committed without any prosecution is unquestionably a complete bar, and cited Adams v. Wood, 2 Cranch [6 U. S.] 336. The witness is now as secure from the penalties of the statute as though he had never committed the offense.\\nMr. Daggett, for defendant. The United States statute of limitations has a proviso expressly excepting persons fleeing from justice from its operation. The latter clause of the thirty-second section of the act of congress of April 30, 1790 (1 Stat. 119), is as follows: “Nor shall any person be prosecuted, tried, or punished for any offense not capital, nor for any fine or forfeiture under any penal statute, unless the indictment or information for the same shall be found or instituted within two years from the time of committing the offense, or incurring the fine or forfeiture aforesaid.” Then follows this proviso: “Provided that nothing herein contained shall extend to any person or persons fleeing from justice.” It appears that this witness has been out of the United States a considerable part of the time since the transaction took place. (This had been previously stated, and admitted by. the counsel for the United States.) Now, a fleeing from justice is nothing more than avoidance, a going out of the jurisdiction to avoid prosecution. So the -construction has been as to fugitives from justice from one state into another. But at any rate the witness will be jeopardized by testifying, and this is sufficient to excuse him. If prosecuted for this offense he must plead the statute of limitations. The attorney for the United States may then reply over a fleeing from justice. This he will attempt to support by showing that the witness has actually been without the jurisdlction of the United States. Will not this jeopardize him? The statute of limitations never purges the offense. Nothing but a pardon will afford the offender complete security. The case of Bollman, in Burr’s Trial [Case No. 14,093], was referred to.\" The question there was whether Bollman was bound to accept the pardon. But without the pardon it was admitted that he could not be called upon to testify.\\nNOTE. Party to Crime, When Compelled to Testify. When the prosecution is barred by the statute of limitations, a particeps criminis may be compelled to testify; he is not privileged. Weldon v. Burch, 12 Ill. 376; U. S. v. White [Case No. 16,677], approving case in •test.\\nMr. Peters, for the United States, contended that a fleeing from justice within the proviso of the statute must be a fleeing from a prosecution begun.\\nEDWARDS, District Judge. That point was decided otherwise by Ch. J. Ellsworth in the Case of Williams [Case No. 17,708]. He said it made no difference whether a prosecution was commenced or not.\\nMr. Goodrich stated that in Williams’ Case [supra] the offender had simply been in a foreign country, and it was considered as a fleeing from justice.\\nEDWARDS, District Judge. I am prepared to give my opinion on the point, but if the jury should find a verdict against the defendant I will give him an opportunity to move for a new trial, and have the opinion of Judge LIVINGSTON. It appears to me that the witness is prima facie protected from prosecution by the statute of limitations. The answer comes from him. He says he is not protected because he has fled from justice. But he ought not to make his fleeing from justice (his own crime) a ground for ’ withholding\" Lis\\' testimony\"\" At the same time the court will take care that the witness be not entrapped. The attorney will not be allowed to say now that the prosecution is barred, and thus obtain his testimony, and afterwards bring forward a prosecution, and say that it is not barred, because the witness has fled from justice. The witness must testify.\\nIn the course of the trial the district attorney offered the deposition of Thaddeus R. Austin. It appeared that the substance of this deposition had been copied by the deponent from another paper which he had written at Sufiield about ten days before. The certificate of the magistrate who took the deposition was as follows: “Personally appeared the above-named Thaddeus R. Austin of Suffield, in the state of Connecticut, and being duly cautioned, made oath to the truth of the above deposition by him subscribed, and written in my presence.” etc.\\nMr. Daggett objected to the admission of this deposition on the ground that it was not taken as the act of congress requires. The 30th section of the judiciary act (volume 1, p. 69) provides, that every person deposing shall be carefully examined, and cautioned, and sworn, or affirmed to testify the whole truth, and shall subscribe the testimony by him or her given, after the same shall be reduced to writing, which shall be done only by the magistrate taking the depo-sitien, or by the deponent in his presence. This testimony was not reduced to writing by the magistrate taking the deposition, nor by the deponent in his presence.\\nMr. Peters, contra.\\nEDWARDS, District Judge. The provisions of the act of congress relative to the taking of depositions are very important, and ought to be adhered to strictly. This deposition cannot be read. The question is not a new one. In England the lord chancellor has refused to admit depositions taken as this was. The transportation of the slaves from Africa to Havanna, as stated in the declaration, was clearly proved by the evidence adduced on the part of the United States. It appeared that the vessel arrived at Havanna more than two years before the commencement of the suit; but it did not appear that the slaves were actually sold until some time within the two years.\\nMessrs. Goodrich and Daggett contended that the offense charged in this declaration is complete when the vessel arrives; and her arrival takes place when she is moored. It is not necessary that the slaves should be landed or sold.\\nThe district attorney and Mr. Peters, contra, insisted that in order to constitute the offense in question. the persons transported must be sold as slaves; if they are transported for the purpose of colonization, or any other purpose than to be sold as slaves, it is no offense. But at any rate, they must be landed before the offense is complete. It does not appear that these slaves were landed more than two years before the commencement of the suit. If the defendant relies upon the statute of limitations for his protection it belongs to him to show this, which he has not done.\\nMr. Goodrich, in reply, observed that it clearly belonged to the United States to prove the offense committed within two years from the commencement of the suit; otherwise there could be no recovery. There is a manifest distinction between this case and that where a debt is admitted by the defendant, and claimed to be barred by the statute of limitations.\\nEDWARDS, District Judge. That part of the case which rests upon the statute-of limitations is extremely clear. My opinion is, and so I shall charge the jury, that the offense consists in transporting persons from one foreign country to another, with a view to their being sold as slaves; and as soon as the vessel arrives at the place of destination the offense is completed, whether the slaves are sold or not. It is incumbent on the attorney for the United States to show an offense committed within two years; and as this has not been done, there must be a verdict for the defendant.\\nThe jury found accordingly.\\nDepositions under United States Laws. Depositions taken under United States statutes must be in strict conformity therewith. Shanwiker v. Beading [Case No. 12,704], citing case in text.\\nattorneys: \\nMr. Huntington, Dist Atty., and Mr. Peters, for the United States.   \\nGoodrich, Daggett, Mosely & Dwight, for defendant.   \\nMr. Huntington, for the United States,   \\nMr. Daggett, for defendant,\\ncorrections: \\nhead_matter: Case No. 16,332.\\nUNITED STATES v. SMITH.\\n[Brun. Col. Cas. 82;\\n4 Day, 121;\\nN. C. Cas. 81.]\\nCircuit Court, D. Connecticut.\\n1809.\\nSlave Trade — Action to Recover Penalty — Accomplice as Witness—Depositions —Reduction to Writing.\\n1. In an action of debt to recover the penalty given by the act of congress of May 10, 1800, for transporting slaves from one foreign port or place to another, a particeps criminis, after the expiration of two years from the commission of the offense, without any prosecution against him being commenced, may be compelled to testify against the defendant, though such witness has been out of the jurisdiction of the United States a considerable part of the two years. A fleeing from justice within the proviso to the United States statute of limitations for crimes does not necessarily import a fleeing from prosecution begun.\\n[Cited in brief in U. S. v. White, Case No. 16,677.]\\n2. The offense within the act of congress of May 10, 1800, consists in transporting persons from one foreign country to another, with a view to their being sold as slaves; and the offense is complete when the vessel arrives at the place of destination, whether the slaves are sold or not.\\n3. Where the certificate of a magistrate taking a deposition, stated it to have been written in his presence, without saying by whom, and it appeared also that the substance of it had been reduced to writing by the deponent ten days before at a different place when the magistrate was not present, it was held that such deposition was inadmissible in the United States courts.\\n[Cited in West v. Davis, Case No. 17,422.]\\nThis was an action of debt to recover double the value of the interest which the defendant [John Smith] had in certain slaves, transported in the brig Heroine, whereof the defendant was sole owner and master, from Africa to Havanna, and there sold by the direction of the defendant, and for his benefit, contrary to the provisions of the act of congress of May 10, 1800 (5 Stat. 167, 170). The first section of that act is as follows: “That it shall be unlawful for any citizen of the United States, or other person residing within the United States, directly or indirectly, to hold or have any right or property in any vessel employed or made use of in the transportation or carrying of slaves from one foreign country or place to another, and any right or property belonging, as aforesaid, shall be forfeited, and may be libelled and condemned for the use of the person who shall sue for the same; and such person transgressing the prohibition aforesaid’shall also forfeit and pay a sum of money equal to double the value of the right or property in such vessel, which he held as aforesaid; and shall also forfeit a sum of money equal to double the value of the interest which he may have had in the slaves, which at any time have been transported or carried in such vessel, after the passing of this act, and against the form thereof.”\\nThe action was commenced March 31, 1808. The transportation and sale of the slaves were thus alleged in the declaration: “That while said vessel remained on said coast of Africa, to wit, after the first day of December, 1805, and before the first day of April then next following, by direction of said John Smith, and for his use, the crew of said vessel did forcibly seize, carry on board said vessel, and there confine more than one hundred of the natives of Africa, a foreign country, with intent them to transport, and sell and dispose of as slaves in some foreign country. And afterwards said vessel, pursuant to the previous advice and direction of said John Smith, did sail from said coast of Africa, having on board mor\\'e than one hundred of the said inhabitants and natives of Africa, destined to the port of Havanna, a foreign port and place in the dominions of the king of Spain, at which port said vessel arrived before the 1st day of June, 1806. And the said United States further declare that after the 1st day of April, and before the 30th day of June in the year last mentioned, and within two years next before the date of this writ, by the previous advice and direction of said John Smith, and for his use and benefit, at Havanna aforesaid, one hundred of said inhabitants and natives of Africa, so as aforesaid, by said John Smith, caused to be taken and transported to the place last mentioned, were there sold and disposed of as slaves, and at a price not less than one hundred dollars for each of said Africans, amounting in the whole to ten thousand dollars, against the form, force, and effect of the several acts of the congress of the United States in such eases made, and then in force.” The declaration then concluded thus: “By means whereof, and by force of the statutes aforesaid, the said John Smith hath forfeited and become liable to pay a sum of money equal to double the value of the interest which he then had in said slaves so transported in said brig Heroine, whereof said John Smith was sole owner, from Africa to Havanna aforesaid, and there sold as aforesaid, for the benefit of said John Smith, amounting to twenty thousand dollars.” The defendant pleaded “Not guilty.”\\nMr. Huntington, Dist Atty., and Mr. Peters, for the United States.\\nGoodrich, Daggett, Mosely & Dwight, for defendant.\\nOn the trial the district attorney,\\'\\nMr. Huntington, for the United States,\\noffered William Mills, one of the crew of the brig Heroine, as a witness to prove that the defendant was owner of the slaves mentioned in the declaration.\\nMr. Daggett, for defendant,\\nobjected to his being sworn, on the ground that his testimony would implicate himself, and subject him to fine and imprisonment. The second section of the act of May 10, 1800, declares “that it shall be unlawful for any citizen of the United States, or other person residing therein, to serve on board any vessel employed or made use of in the transportation or carrying of slaves from one foreign country or place to another”; and provides that \"any such citizen or -other person voluntarily serving as aforesaid, shall be liable to be indicted therefor, and on conviction thereof shall be liable to a fine not exceeding two thousand dollars, and be imprisoned not exceeding two years.” 1 Stat. 168. A prosecution has already been commenced against the witness for serving on board the defendant’s vessel during the voyage in question. Any facts within the knowledge of this witness which will subject the defendant will also show that the witness is guilty.\\nThe district attorney replied that he had entered a nolle prosequi on the prosecution against the witness, and the time for instituting a new prosecution has elapsed, the offense having been committed more than two years ago. Further, the only point to which we propose to direct the testimony of the witness is, that John Smith was owner of certain slaves. To establish that point will not implicate the witness. Nothing is more common in criminal trials than to call upon a particeps eriminis to testify.\\n', metadata={'name': 'United States v. Smith'})]"
      ]
     },
     "execution_count": 5,
     "metadata": {},
     "output_type": "execute_result"
    }
   ],
   "source": [
    "db.similarity_search(case3, 2)"
   ]
  },
  {
   "cell_type": "code",
   "execution_count": 8,
   "metadata": {},
   "outputs": [
    {
     "data": {
      "text/plain": [
       "[Document(page_content='\\nThe plaintiff, a woman of color, was living in Cincinnati as a free person after being emancipated by Mrs. Cirode. The children of Mrs. Cirode claimed some interest in the plaintiff as a slave, and in 1853, they sold her to the defendant, who forcibly restrained her of her liberty and sent her back to Kentucky, where she was imprisoned in a slave prison. A petition she filed for her liberty was dismissed, and after a series of legal proceedings, she was sold to Wm. Pulliam, then to Girard Brandon, and subjected to slavery in Mississippi and Texas, until she was emancipated in 1865. The plaintiff then began preparations to return to her home in Cincinnati, and in 1870, she filed a petition against the defendant, claiming damages. \\n', metadata={}),\n",
       " Document(page_content='\\nThe case involves the plaintiff, Henrietta Wood, who alleges that in 1853 she was a free woman and was then deprived of her liberty by the defendant. She claims that the defendant kidnapped her and kept her in slavery for seven months before delivering her to a slaveholder in Mississippi, who then sold her to another individual. The plaintiff states that as a result of her wrongful selling, she was deprived of her time and labor for fifteen years, which she values at least $500 per year. She further alleges that she was prevented from returning to Cincinnati, where she was a resident, and that she sustained damages amounting to $20,000. The defendant denies these allegations and raises several defenses, including the claim that the cause of action did not accrue within the statute of limitations. The judge instructs the jury that to entitle the plaintiff to recover, they must be satisfied that she was a free woman at the time of the alleged injury and that the defendant caused her to be kidnapped and sold into slavery. The judge also discusses the statute of limitations and the effect of a previous legal proceeding filed by the plaintiff in Kentucky. The jury returned a verdict for the plaintiff for $2,500.\\n', metadata={})]"
      ]
     },
     "execution_count": 8,
     "metadata": {},
     "output_type": "execute_result"
    }
   ],
   "source": [
    "db.similarity_search(case4, 2)"
   ]
  },
  {
   "cell_type": "code",
   "execution_count": 9,
   "metadata": {},
   "outputs": [
    {
     "data": {
      "text/plain": [
       "[Document(page_content=\"\\nThe case involves a patent infringement dispute over letters patent No. 470,591, which was granted to Norton for a new and improved feed for screw-cutting engine-lathes. The dispute focuses on claims 2, 3, 4, 5, 6, and 7, with claim 2 being the primary matter of contention. The patent sought to address the need for variable and readily changeable speed of the feed-shaft in screw-cutting engine lathes. The invention consisted of a combination of interchangeable gear-wheels, a shaft driven from the interchangeable gear-wheels, a pinion mounted to turn with and slide on the shaft, a driving gear-wheel in mesh with the pinion, a second series of gear-wheels of various diameters arranged step-wise on the feed-shaft, and a lever carrying the driving gear-wheel and arranged for shifting the pinion on the shaft and moving the driving gear-wheel in and out of mesh with the feed-shaft gear-wheels. The patent claimed that the combination of these elements was a new and improved method for regulating the speed of the feed-shaft. The defendant's device was found to be materially different from that described in the patent, and therefore, it was ruled that the defendant did not infringe on the patent.\\n\", metadata={}),\n",
       " Document(page_content='\\nThe case involves the plaintiff, Henrietta Wood, who alleges that in 1853 she was a free woman and was then deprived of her liberty by the defendant. She claims that the defendant kidnapped her and kept her in slavery for seven months before delivering her to a slaveholder in Mississippi, who then sold her to another individual. The plaintiff states that as a result of her wrongful selling, she was deprived of her time and labor for fifteen years, which she values at least $500 per year. She further alleges that she was prevented from returning to Cincinnati, where she was a resident, and that she sustained damages amounting to $20,000. The defendant denies these allegations and raises several defenses, including the claim that the cause of action did not accrue within the statute of limitations. The judge instructs the jury that to entitle the plaintiff to recover, they must be satisfied that she was a free woman at the time of the alleged injury and that the defendant caused her to be kidnapped and sold into slavery. The judge also discusses the statute of limitations and the effect of a previous legal proceeding filed by the plaintiff in Kentucky. The jury returned a verdict for the plaintiff for $2,500.\\n', metadata={})]"
      ]
     },
     "execution_count": 9,
     "metadata": {},
     "output_type": "execute_result"
    }
   ],
   "source": [
    "db.similarity_search(case5, 2)"
   ]
  },
  {
   "cell_type": "code",
   "execution_count": 6,
   "metadata": {},
   "outputs": [],
   "source": [
    "db._persist_directory = 'db'"
   ]
  },
  {
   "cell_type": "code",
   "execution_count": 7,
   "metadata": {},
   "outputs": [
    {
     "ename": "AttributeError",
     "evalue": "'SegmentAPI' object has no attribute 'persist'",
     "output_type": "error",
     "traceback": [
      "\u001b[0;31m---------------------------------------------------------------------------\u001b[0m",
      "\u001b[0;31mAttributeError\u001b[0m                            Traceback (most recent call last)",
      "Cell \u001b[0;32mIn[7], line 1\u001b[0m\n\u001b[0;32m----> 1\u001b[0m \u001b[43mdb\u001b[49m\u001b[38;5;241;43m.\u001b[39;49m\u001b[43mpersist\u001b[49m\u001b[43m(\u001b[49m\u001b[43m)\u001b[49m\n",
      "File \u001b[0;32m~/NU/memory/chroma.py:298\u001b[0m, in \u001b[0;36mChroma.persist\u001b[0;34m(self)\u001b[0m\n\u001b[1;32m    293\u001b[0m \u001b[38;5;28;01mif\u001b[39;00m \u001b[38;5;28mself\u001b[39m\u001b[38;5;241m.\u001b[39m_persist_directory \u001b[38;5;129;01mis\u001b[39;00m \u001b[38;5;28;01mNone\u001b[39;00m:\n\u001b[1;32m    294\u001b[0m     \u001b[38;5;28;01mraise\u001b[39;00m \u001b[38;5;167;01mValueError\u001b[39;00m(\n\u001b[1;32m    295\u001b[0m         \u001b[38;5;124m\"\u001b[39m\u001b[38;5;124mYou must specify a persist_directory on\u001b[39m\u001b[38;5;124m\"\u001b[39m\n\u001b[1;32m    296\u001b[0m         \u001b[38;5;124m\"\u001b[39m\u001b[38;5;124mcreation to persist the collection.\u001b[39m\u001b[38;5;124m\"\u001b[39m\n\u001b[1;32m    297\u001b[0m     )\n\u001b[0;32m--> 298\u001b[0m \u001b[38;5;28;43mself\u001b[39;49m\u001b[38;5;241;43m.\u001b[39;49m\u001b[43m_client\u001b[49m\u001b[38;5;241;43m.\u001b[39;49m\u001b[43mpersist\u001b[49m()\n",
      "\u001b[0;31mAttributeError\u001b[0m: 'SegmentAPI' object has no attribute 'persist'"
     ]
    }
   ],
   "source": [
    "db.persist()"
   ]
  },
  {
   "cell_type": "code",
   "execution_count": 8,
   "metadata": {},
   "outputs": [
    {
     "data": {
      "text/plain": [
       "['__abstractmethods__',\n",
       " '__annotations__',\n",
       " '__class__',\n",
       " '__delattr__',\n",
       " '__dict__',\n",
       " '__dir__',\n",
       " '__doc__',\n",
       " '__eq__',\n",
       " '__format__',\n",
       " '__ge__',\n",
       " '__getattribute__',\n",
       " '__getstate__',\n",
       " '__gt__',\n",
       " '__hash__',\n",
       " '__init__',\n",
       " '__init_subclass__',\n",
       " '__le__',\n",
       " '__lt__',\n",
       " '__module__',\n",
       " '__ne__',\n",
       " '__new__',\n",
       " '__reduce__',\n",
       " '__reduce_ex__',\n",
       " '__repr__',\n",
       " '__setattr__',\n",
       " '__sizeof__',\n",
       " '__slots__',\n",
       " '__str__',\n",
       " '__subclasshook__',\n",
       " '__weakref__',\n",
       " '_abc_impl',\n",
       " '_add',\n",
       " '_collection_cache',\n",
       " '_count',\n",
       " '_delete',\n",
       " '_dependencies',\n",
       " '_get',\n",
       " '_get_collection',\n",
       " '_manager',\n",
       " '_modify',\n",
       " '_peek',\n",
       " '_producer',\n",
       " '_query',\n",
       " '_running',\n",
       " '_settings',\n",
       " '_sysdb',\n",
       " '_system',\n",
       " '_telemetry_client',\n",
       " '_tenant_id',\n",
       " '_topic',\n",
       " '_topic_ns',\n",
       " '_update',\n",
       " '_upsert',\n",
       " '_validate_dimension',\n",
       " '_validate_embedding_record',\n",
       " 'create_collection',\n",
       " 'create_index',\n",
       " 'delete_collection',\n",
       " 'dependencies',\n",
       " 'get_collection',\n",
       " 'get_or_create_collection',\n",
       " 'get_settings',\n",
       " 'get_version',\n",
       " 'heartbeat',\n",
       " 'list_collections',\n",
       " 'raw_sql',\n",
       " 'require',\n",
       " 'reset',\n",
       " 'reset_state',\n",
       " 'start',\n",
       " 'stop']"
      ]
     },
     "execution_count": 8,
     "metadata": {},
     "output_type": "execute_result"
    }
   ],
   "source": [
    "dir(db._client)"
   ]
  },
  {
   "cell_type": "code",
   "execution_count": 20,
   "metadata": {},
   "outputs": [],
   "source": [
    "data3 = pickle.load(open('Log_35.pkl', 'rb'))"
   ]
  },
  {
   "cell_type": "code",
   "execution_count": 21,
   "metadata": {},
   "outputs": [],
   "source": [
    "t1=t3=t5=0\n",
    "n = 0\n",
    "for i in data3:\n",
    "    if i['index'] == 0:\n",
    "        t1 += 1\n",
    "    elif i['index'] <= 2:\n",
    "        t3 += 1\n",
    "    elif i['index'] <= 4:\n",
    "        t5 += 1\n",
    "    if i['index'] == -1:\n",
    "        n += 1"
   ]
  },
  {
   "cell_type": "code",
   "execution_count": 22,
   "metadata": {},
   "outputs": [
    {
     "name": "stdout",
     "output_type": "stream",
     "text": [
      "0.2 0.57 0.69\n"
     ]
    }
   ],
   "source": [
    "print(t1/200, (t1+t3)/200, (t1+t3+t5)/200)"
   ]
  },
  {
   "cell_type": "code",
   "execution_count": 23,
   "metadata": {},
   "outputs": [
    {
     "data": {
      "text/plain": [
       "0.145"
      ]
     },
     "execution_count": 23,
     "metadata": {},
     "output_type": "execute_result"
    }
   ],
   "source": [
    "n/200"
   ]
  },
  {
   "cell_type": "code",
   "execution_count": null,
   "metadata": {},
   "outputs": [],
   "source": []
  }
 ],
 "metadata": {
  "kernelspec": {
   "display_name": ".venv",
   "language": "python",
   "name": "python3"
  },
  "language_info": {
   "codemirror_mode": {
    "name": "ipython",
    "version": 3
   },
   "file_extension": ".py",
   "mimetype": "text/x-python",
   "name": "python",
   "nbconvert_exporter": "python",
   "pygments_lexer": "ipython3",
   "version": "3.11.8"
  }
 },
 "nbformat": 4,
 "nbformat_minor": 2
}
