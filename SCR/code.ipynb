{
 "cells": [
  {
   "cell_type": "code",
   "execution_count": null,
   "metadata": {},
   "outputs": [],
   "source": [
    "from chroma import Chroma\n",
    "from embeddings import OpenAIEmbeddings\n",
    "import os\n",
    "import chromadb\n",
    "import json\n",
    "from tqdm import tqdm\n",
    "os.environ['OPENAI_API_KEY'] = ''\n",
    "import pickle\n",
    "import pandas as pd"
   ]
  },
  {
   "cell_type": "code",
   "execution_count": null,
   "metadata": {},
   "outputs": [],
   "source": [
    "embd = OpenAIEmbeddings()\n",
    "client = chromadb.PersistentClient(path=\"lawllm\")\n",
    "db = Chroma(client=client, embedding_function=embd, persist_directory='lawllm')"
   ]
  },
  {
   "cell_type": "code",
   "execution_count": null,
   "metadata": {},
   "outputs": [],
   "source": [
    "def get_text(data):\n",
    "    if isinstance(data, str):\n",
    "        return data\n",
    "    if isinstance(data, list):\n",
    "        return '   \\n'.join([get_text(i) for i in data])\n",
    "    if isinstance(data, dict):\n",
    "        return get_text(data['text'])"
   ]
  },
  {
   "cell_type": "code",
   "execution_count": null,
   "metadata": {},
   "outputs": [],
   "source": [
    "test_cases = os.listdir('test_folder')\n",
    "test_cases = [i for i in test_cases if i.endswith('.json')]\n",
    "test_data = dict()\n",
    "for i in range(len(test_cases)):\n",
    "    with open('test_folder/' + test_cases[i], 'r') as file:\n",
    "        try:\n",
    "            d = json.load(file)\n",
    "            test_data[test_cases[i]] = d\n",
    "            test_cases[i] = d\n",
    "        except:\n",
    "            print('error in file: test_folder/' + test_cases[i])\n",
    "for i in test_cases:\n",
    "    assert 'casebody' in i\n",
    "    assert 'data' in i['casebody']\n"
   ]
  },
  {
   "cell_type": "code",
   "execution_count": null,
   "metadata": {},
   "outputs": [],
   "source": [
    "train_cases = os.listdir('train_folder')\n",
    "train_cases = [i for i in train_cases if i.endswith('.json')]\n",
    "train_data = dict()\n",
    "for i in range(len(train_cases)):\n",
    "    with open('train_folder/' + train_cases[i], 'r') as file:\n",
    "        try:\n",
    "            d = json.load(file)\n",
    "            train_data[train_cases[i]] = d\n",
    "            train_cases[i] = d\n",
    "        except:\n",
    "            print('error in file: train_folder/' + train_cases[i])\n",
    "for i in train_cases:\n",
    "    assert 'casebody' in i\n",
    "    assert 'data' in i['casebody']\n"
   ]
  },
  {
   "cell_type": "code",
   "execution_count": null,
   "metadata": {},
   "outputs": [],
   "source": [
    "data = []\n",
    "metadata = []\n",
    "for id, i in enumerate(train_cases):\n",
    "    metadata.append(i)\n",
    "    data.append(\"\")\n",
    "    for k, v in i['casebody']['data'].items():\n",
    "        if isinstance(v, str):\n",
    "            data[id] += f\"{k}: {v}\\n\"\n",
    "        elif isinstance(v, list):\n",
    "            tmp = \"   \\n\".join(map(get_text, v))\n",
    "            data[id] += f\"{k}: \\n{tmp}\\n\"\n",
    "        else:\n",
    "            print(f\"Unknown type: {type(v)}\")\n",
    "HASH = dict()\n",
    "for i in range(len(data)):\n",
    "    HASH[data[i]] = metadata[i]\n",
    "pickle.dump(HASH, open('train_cases_content2metadata.pkl', 'wb'))\n",
    "metadata = [{'name': i['name_abbreviation']} for i in metadata]\n",
    "db.add_texts(data, metadata)"
   ]
  },
  {
   "cell_type": "code",
   "execution_count": null,
   "metadata": {},
   "outputs": [],
   "source": [
    "data = []\n",
    "metadata = []\n",
    "for id, i in enumerate(test_cases):\n",
    "    metadata.append(i)\n",
    "    data.append(\"\")\n",
    "    for k, v in i['casebody']['data'].items():\n",
    "        if isinstance(v, str):\n",
    "            data[id] += f\"{k}: {v}\\n\"\n",
    "        elif isinstance(v, list):\n",
    "            tmp = \"   \\n\".join(map(get_text, v))\n",
    "            data[id] += f\"{k}: \\n{tmp}\\n\"\n",
    "        else:\n",
    "            print(f\"Unknown type: {type(v)}\")\n",
    "HASH = dict()\n",
    "for i in range(len(data)):\n",
    "    HASH[data[i]] = metadata[i]\n",
    "pickle.dump(HASH, open('test_cases_content2metadata.pkl', 'wb'))\n",
    "metadata = [{'name': i['name_abbreviation']} for i in metadata]\n",
    "db.add_texts(data, metadata)"
   ]
  },
  {
   "cell_type": "code",
   "execution_count": null,
   "metadata": {},
   "outputs": [],
   "source": [
    "def get_text(i):\n",
    "    def _get_text(data):\n",
    "        if isinstance(data, str):\n",
    "            return data\n",
    "        if isinstance(data, list):\n",
    "            return '   \\n'.join([_get_text(i) for i in data])\n",
    "        if isinstance(data, dict):\n",
    "            return _get_text(data['text'])\n",
    "    ans = \"\"\n",
    "    for k, v in i['casebody']['data'].items():\n",
    "        if isinstance(v, str):\n",
    "            ans += f\"{k}: {v}\\n\"\n",
    "        elif isinstance(v, list):\n",
    "            tmp = \"   \\n\".join(map(_get_text, v))\n",
    "            ans += f\"{k}: \\n{tmp}\\n\"\n",
    "        else:\n",
    "            print(f\"Unknown type: {type(v)}\")\n",
    "    return ans\n"
   ]
  },
  {
   "cell_type": "code",
   "execution_count": null,
   "metadata": {},
   "outputs": [],
   "source": [
    "df = pd.read_csv('capstone_1000.csv', encoding='latin1')"
   ]
  },
  {
   "cell_type": "code",
   "execution_count": null,
   "metadata": {},
   "outputs": [],
   "source": [
    "summary = df['1'].to_list()\n",
    "content = df['2'].to_list()\n",
    "id2summary = dict()\n",
    "\n",
    "for i in range(len(summary)):\n",
    "    if isinstance(summary[i], float):\n",
    "        continue\n",
    "    try:\n",
    "        tmp = eval(summary[i])\n",
    "        id2summary[tmp['id']] = dict()\n",
    "        id2summary[tmp['id']]['data'] = tmp\n",
    "        id2summary[tmp['id']]['content'] = content[i]\n",
    "    except Exception as e:\n",
    "        # print(e)\n",
    "        # raise e\n",
    "        pass\n"
   ]
  },
  {
   "cell_type": "code",
   "execution_count": null,
   "metadata": {},
   "outputs": [],
   "source": [
    "num = len(test_cases)\n",
    "ans = []\n",
    "i = 0\n",
    "while len(ans) < num and i < num:\n",
    "    text = get_text(test_cases[i])\n",
    "    i += 1\n",
    "    if HASH[text]['id'] not in id2summary:\n",
    "        continue\n",
    "    tmp = list(map(lambda x : x.page_content, db.similarity_search(text, k=110)))[1:]\n",
    "    ans.append(dict(case_text=id2summary.get(HASH[text]['id'])['content'], case_data=HASH[text], choice=[]))\n",
    "    for j in tmp:\n",
    "        _data = HASH[j]\n",
    "        id = _data['id']\n",
    "        if id not in id2summary:\n",
    "            continue\n",
    "        ans[-1]['choice'].append(id2summary.get(id, dict(data=_data, content = get_text(_data))))\n",
    "\n",
    "pickle.dump(ans, open('case_test.pkl', 'wb'))"
   ]
  },
  {
   "cell_type": "code",
   "execution_count": null,
   "metadata": {},
   "outputs": [],
   "source": [
    "prompt = f\"\"\"\n",
    "You are a legal expert who specializes in comparing user-supplied legal cases to a list of candidate legal cases , which includes titles and content. Your main function is to identify and output the title of the most similar case from the list based on the description provided.\n",
    "You should only output the case title and not any other information.\n",
    "\"\"\""
   ]
  },
  {
   "cell_type": "code",
   "execution_count": null,
   "metadata": {},
   "outputs": [],
   "source": [
    "# to text\n",
    "num_choices = 10\n",
    "for i in ans:\n",
    "    text = prompt + \"\\nThis is the case:\\n\" + i['case_text'] + \"\\n\\n\"\n",
    "    text += \"Here are the choices:\\n\"\n",
    "    for j in i['choice'][:num_choices]:\n",
    "        text += j['data']['name'] + \" : \" + j['content'] + \"\\n\\n\"\n",
    "        # print(j['content'])\n",
    "    text += \"Please choose the most similar one to the case above. You should only output the case title and not any other information.\"\n",
    "    print(text)\n"
   ]
  },
  {
   "cell_type": "code",
   "execution_count": null,
   "metadata": {},
   "outputs": [],
   "source": []
  }
 ],
 "metadata": {
  "language_info": {
   "name": "python"
  }
 },
 "nbformat": 4,
 "nbformat_minor": 2
}
